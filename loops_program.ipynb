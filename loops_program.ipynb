{
 "cells": [
  {
   "cell_type": "code",
   "execution_count": 6,
   "metadata": {},
   "outputs": [
    {
     "name": "stdout",
     "output_type": "stream",
     "text": [
      "number 20\n",
      "number 18\n",
      "number 16\n",
      "number 14\n",
      "number 12\n",
      "number 10\n",
      "number 8\n",
      "number 6\n",
      "number 4\n"
     ]
    }
   ],
   "source": [
    "#for loop contain some value like: 1st value hogi jahan se hamy loop start karna hai or 2nd value kahan tk loop jaega or 3rd value hogi kitny ka increment karna hai ya decrement karna hai\n",
    "for i in range(1,20,2):\n",
    "    print('number {}'.format(i))"
   ]
  },
  {
   "cell_type": "code",
   "execution_count": 3,
   "metadata": {},
   "outputs": [
    {
     "name": "stdout",
     "output_type": "stream",
     "text": [
      "45\n"
     ]
    }
   ],
   "source": [
    "total = 0\n",
    "for i in range(1,10):\n",
    "    total = total + i\n",
    "print(total)"
   ]
  },
  {
   "cell_type": "code",
   "execution_count": 8,
   "metadata": {},
   "outputs": [
    {
     "name": "stdout",
     "output_type": "stream",
     "text": [
      "number 20\n",
      "number 18\n",
      "number 16\n",
      "number 14\n",
      "number 12\n",
      "number 10\n",
      "number 8\n",
      "number 6\n",
      "number 4\n"
     ]
    }
   ],
   "source": [
    "for i in range(20,2,-2):\n",
    "    print('number {}'.format(i))"
   ]
  },
  {
   "cell_type": "code",
   "execution_count": 2,
   "metadata": {},
   "outputs": [
    {
     "name": "stdout",
     "output_type": "stream",
     "text": [
      "ali\n",
      "usman\n",
      "asad\n",
      "umar\n"
     ]
    }
   ],
   "source": [
    "name = [\"ali\",\"usman\",\"asad\",\"umar\"]\n",
    "for real in name:\n",
    "    print(real)"
   ]
  }
 ],
 "metadata": {
  "kernelspec": {
   "display_name": "Python 3",
   "language": "python",
   "name": "python3"
  },
  "language_info": {
   "codemirror_mode": {
    "name": "ipython",
    "version": 3
   },
   "file_extension": ".py",
   "mimetype": "text/x-python",
   "name": "python",
   "nbconvert_exporter": "python",
   "pygments_lexer": "ipython3",
   "version": "3.7.3"
  }
 },
 "nbformat": 4,
 "nbformat_minor": 2
}
